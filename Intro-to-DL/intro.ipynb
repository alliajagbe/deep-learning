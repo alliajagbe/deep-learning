{
 "cells": [
  {
   "cell_type": "markdown",
   "metadata": {},
   "source": [
    "# Introduction to Deep Learning \n",
    "Scale Drives Deep Learning Progress"
   ]
  },
  {
   "cell_type": "markdown",
   "metadata": {},
   "source": [
    "### Logistic Regression as a Neural Network"
   ]
  },
  {
   "cell_type": "markdown",
   "metadata": {},
   "source": [
    "- An image is represented by a matrix of pixel values.\n",
    "- Most common image format is a 3 layer matrix, where each layer represents the Red, Green and Blue (RGB) values of the image.\n",
    "- Each pixel is represented by a vector of 3 numbers ranging from 0 to 255.\n",
    "- Hence, a 64x64 image will have 64x64x3 = 12288 features."
   ]
  },
  {
   "cell_type": "markdown",
   "metadata": {},
   "source": [
    "### Notation\n",
    "- X = [x<sup>(1)</sup>, x<sup>(2)</sup>, ..., x<sup>(m)</sup>]; a matrix of shape (n<sub>x</sub>, m) where m is the number of training examples. X contains the input features of the training examples.\n",
    "- Y = [y<sup>(1)</sup>, y<sup>(2)</sup>, ..., y<sup>(m)</sup>]; a vector of shape (1, m) where m is the number of training examples. Y contains the labels of the training examples."
   ]
  },
  {
   "cell_type": "markdown",
   "metadata": {},
   "source": [
    "### Logistic Regression\n",
    "- Logistic regression is a binary classifier. It classifies the input into one of the two classes.\n",
    "- The output of the logistic regression is a number between 0 and 1.\n",
    "- The output of the logistic regression is the probability of the input belonging to class 1.\n",
    "- The output of the logistic regression is calculated using the sigmoid function.\n",
    "- The sigmoid function is defined as:\n",
    "$$\\sigma(z) = \\frac{1}{1 + e^{-z}}$$"
   ]
  }
 ],
 "metadata": {
  "language_info": {
   "name": "python"
  }
 },
 "nbformat": 4,
 "nbformat_minor": 2
}
