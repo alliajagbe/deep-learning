{
 "cells": [
  {
   "cell_type": "markdown",
   "metadata": {},
   "source": [
    "### Vectorization with Python\n",
    "\n",
    "- Vectorization is the way of getting rid of explicit `for` loops in your code.\n",
    "- It is a way of expressing operations as occurring on entire arrays rather than their individual elements.\n",
    "- Vectorization is usually implemented through numpy arrays."
   ]
  },
  {
   "cell_type": "code",
   "execution_count": 1,
   "metadata": {},
   "outputs": [
    {
     "name": "stdout",
     "output_type": "stream",
     "text": [
      "Vectorized version: 0.0ms\n",
      "Non-vectorized version: 299.97849464416504ms\n"
     ]
    }
   ],
   "source": [
    "# example to showcase the comparison between vectorized and non-vectorized \n",
    "\n",
    "import numpy as np\n",
    "import time\n",
    "\n",
    "a = np.random.rand(1000000)\n",
    "b = np.random.rand(1000000)\n",
    "\n",
    "tic = time.time()\n",
    "c = np.dot(a,b)\n",
    "toc = time.time()\n",
    "\n",
    "print(\"Vectorized version: \" + str(1000*(toc-tic)) + \"ms\")\n",
    "\n",
    "c = 0\n",
    "tic = time.time()\n",
    "for i in range(1000000):\n",
    "    c += a[i]*b[i]\n",
    "toc = time.time()\n",
    "\n",
    "print(\"Non-vectorized version: \" + str(1000*(toc-tic)) + \"ms\")"
   ]
  },
  {
   "cell_type": "markdown",
   "metadata": {},
   "source": [
    "### Python/Numpy Vectors"
   ]
  },
  {
   "cell_type": "code",
   "execution_count": 5,
   "metadata": {},
   "outputs": [
    {
     "name": "stdout",
     "output_type": "stream",
     "text": [
      "Rank 1 Array: (Neither a row vector nor a column vector)\n",
      "[0.79400507 0.43522635 0.9666025  0.9873913  0.45357311]\n",
      "(5,)\n",
      "[0.79400507 0.43522635 0.9666025  0.9873913  0.45357311]\n",
      "2.9348565510211895\n",
      "\n",
      "An Actual Column Vector\n",
      "[[0.06510562]\n",
      " [0.45571481]\n",
      " [0.07626836]\n",
      " [0.04181816]\n",
      " [0.01263552]] \n",
      "\n",
      "(5, 1) \n",
      "\n",
      "[[0.06510562 0.45571481 0.07626836 0.04181816 0.01263552]]\n",
      "[[4.23874135e-03 2.96695936e-02 4.96549888e-03 2.72259733e-03\n",
      "  8.22643315e-04]\n",
      " [2.96695936e-02 2.07675985e-01 3.47566227e-02 1.90571563e-02\n",
      "  5.75819349e-03]\n",
      " [4.96549888e-03 3.47566227e-02 5.81686334e-03 3.18940292e-03\n",
      "  9.63690429e-04]\n",
      " [2.72259733e-03 1.90571563e-02 3.18940292e-03 1.74875880e-03\n",
      "  5.28394236e-04]\n",
      " [8.22643315e-04 5.75819349e-03 9.63690429e-04 5.28394236e-04\n",
      "  1.59656362e-04]]\n"
     ]
    }
   ],
   "source": [
    "print(\"Rank 1 Array: (Neither a row vector nor a column vector)\")\n",
    "a = np.random.rand(5)\n",
    "print(a)\n",
    "print(a.shape)\n",
    "print(a.T)\n",
    "print(np.dot(a,a.T))\n",
    "\n",
    "print()\n",
    "\n",
    "print(\"An Actual Column Vector\")\n",
    "a = np.random.rand(5,1)\n",
    "print(a,\"\\n\")\n",
    "print(a.shape,\"\\n\")\n",
    "print(a.T)\n",
    "print(np.dot(a,a.T))"
   ]
  }
 ],
 "metadata": {
  "kernelspec": {
   "display_name": "Python 3",
   "language": "python",
   "name": "python3"
  },
  "language_info": {
   "codemirror_mode": {
    "name": "ipython",
    "version": 3
   },
   "file_extension": ".py",
   "mimetype": "text/x-python",
   "name": "python",
   "nbconvert_exporter": "python",
   "pygments_lexer": "ipython3",
   "version": "3.11.4"
  }
 },
 "nbformat": 4,
 "nbformat_minor": 2
}
