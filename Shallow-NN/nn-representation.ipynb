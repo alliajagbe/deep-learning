{
 "cells": [
  {
   "cell_type": "markdown",
   "metadata": {},
   "source": [
    "## Neural Network Representation\n",
    "\n",
    "- Input Layer\n",
    "- Hidden Layer\n",
    "- Output Layer"
   ]
  }
 ],
 "metadata": {
  "language_info": {
   "name": "python"
  }
 },
 "nbformat": 4,
 "nbformat_minor": 2
}
