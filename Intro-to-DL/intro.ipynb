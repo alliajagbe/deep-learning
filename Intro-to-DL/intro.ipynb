{
 "cells": [
  {
   "cell_type": "markdown",
   "metadata": {},
   "source": [
    "# Introduction to Deep Learning \n",
    "Scale Drives Deep Learning Progress"
   ]
  },
  {
   "cell_type": "markdown",
   "metadata": {},
   "source": [
    "### Logistic Regression as a Neural Network"
   ]
  },
  {
   "cell_type": "markdown",
   "metadata": {},
   "source": [
    "- An image is represented by a matrix of pixel values.\n",
    "- Most common image format is a 3 layer matrix, where each layer represents the Red, Green and Blue (RGB) values of the image.\n",
    "- Each pixel is represented by a vector of 3 numbers ranging from 0 to 255.\n",
    "- Hence, a 64x64 image will have 64x64x3 = 12288 features."
   ]
  }
 ],
 "metadata": {
  "language_info": {
   "name": "python"
  }
 },
 "nbformat": 4,
 "nbformat_minor": 2
}
