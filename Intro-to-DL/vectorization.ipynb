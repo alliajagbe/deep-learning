{
 "cells": [
  {
   "cell_type": "markdown",
   "metadata": {},
   "source": [
    "### Vectorization with Python\n",
    "\n",
    "- Vectorization is the way of getting rid of explicit `for` loops in your code.\n",
    "- It is a way of expressing operations as occurring on entire arrays rather than their individual elements.\n",
    "- Vectorization is usually implemented through numpy arrays."
   ]
  }
 ],
 "metadata": {
  "language_info": {
   "name": "python"
  }
 },
 "nbformat": 4,
 "nbformat_minor": 2
}
